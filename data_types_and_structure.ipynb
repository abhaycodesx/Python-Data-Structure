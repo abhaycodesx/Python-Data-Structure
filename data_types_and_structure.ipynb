{
 "cells": [
  {
   "cell_type": "markdown",
   "metadata": {},
   "source": [
    "##### THEORY QUESTIONS"
   ]
  },
  {
   "cell_type": "markdown",
   "metadata": {},
   "source": [
    "Q1.> What are data structures, and why are they important?\n",
    "\n",
    "    -> Data structure is an organised way to store, manage and manipulate data's.\n",
    "\n",
    "    -> important of data structure :\n",
    "\n",
    "        a.> easy to access and modification of data.\n",
    "\n",
    "        b.> help us to apply proper algorithm\n",
    "\n",
    "        c.> solving problems become easy\n",
    "\n",
    "        d.> memory optimization became easy\n"
   ]
  },
  {
   "cell_type": "markdown",
   "metadata": {},
   "source": [
    "Q2.>  Explain the difference between mutable and immutable data types with examples?\n",
    "\n",
    "-> mutable data types :\n",
    "\n",
    "    This are those data's which once created and we went further we can add, remove and modify .\n",
    "    This data's before modification and after modification memeory location will be same.\n",
    "\n",
    "    example -> list_1 = [1,2,3,4,5]\n",
    "                a = id(list_1) # memory location before modification\n",
    "\n",
    "                list_1[2] = 33\n",
    "                b = id(list_1) # memory location after modification\n",
    "\n",
    "                a == b # output will be True\n",
    "\n",
    "                   \n",
    "\n",
    "-> immutable data types :\n",
    "\n",
    "    This are those data's which once we created we can't add, remove or modify this data.\n",
    "    This data's before and after modification the memory location will be different.\n",
    "\n",
    "    example -> str_1 = \"rajeev\"\n",
    "                str_1[1] = \"A\" # this will give us error because once string created it can't be modify\n",
    "\n",
    "                "
   ]
  },
  {
   "cell_type": "markdown",
   "metadata": {},
   "source": [
    "Q3. What are the main differences between lists and tuples in Python?\n",
    "\n",
    "    -> Syntax : \n",
    "        List : has sqare bracekets ->  []\n",
    "        Tuple : has paranthesis -> ()\n",
    "\n",
    "    -> mutability :\n",
    "        List : is mutable\n",
    "        Tuple : is immutable\n",
    "\n",
    "    -> storage memeory :\n",
    "        List : has high storage memory because it is mutable.\n",
    "        Tuple : has low storage memory because it is immutable.\n",
    "\n",
    "    -> in built function :\n",
    "        List : has large number of in built formula.\n",
    "        Tuple : has very low number of in built formula\n",
    "\n",
    "    -> performance :\n",
    "        List : has lower performance\n",
    "        Tuple : has larger performance"
   ]
  },
  {
   "cell_type": "markdown",
   "metadata": {},
   "source": [
    "Q4.>  Describe how dictionaries store data?\n",
    "\n",
    "    -> In dictionaries data's are stored in the form of key and value pair.\n",
    "\n",
    "    -> when we store into dictionaries it created a hash table where every block has has slot numbers and for every key there is\n",
    "        hash code generated which decided which hash code(key) will go into which hash slot of hash table.\n",
    "        \n",
    "    -> in this key must always be unique and immutable.\n"
   ]
  },
  {
   "cell_type": "markdown",
   "metadata": {},
   "source": [
    "Q5.> Why might you use a set instead of a list in Python?\n",
    "\n",
    "    -> as we know set only has unique value means one value can be entered in it only one times and if we want to perform any \n",
    "        operation on any value onle once then we will used set.\n",
    "\n",
    "    -> set has no ordered means storing it  became very easy with worrying about index storing of it.\n",
    "\n",
    "    -> if we want to perform like union, intersection, differences and symmetric differences then we will used set."
   ]
  },
  {
   "cell_type": "markdown",
   "metadata": {},
   "source": [
    "Q6.> What is a string in Python, and how is it different from a list?\n",
    "\n",
    "    -> String is used to represent text , anything which is inside single quotes (' ') or double quotes (\" \")\n",
    "        or in thriple quotes (\"\"\"\"\"\") are strings.\n",
    "\n",
    "    Difference between string and list :\n",
    "    \n",
    "        a.> mutability :\n",
    "\n",
    "            string -> is immutable.\n",
    "            list  -> is mutable.\n",
    "\n",
    "        b.> sequence :\n",
    "\n",
    "            string -> string has sequence of characters.\n",
    "            list -> has sequence of items.\n",
    "\n",
    "        c.> storage type :\n",
    "\n",
    "            string -> can stores only characters.\n",
    "            list -> can store characters, string, int, float and boolean.  "
   ]
  },
  {
   "cell_type": "markdown",
   "metadata": {},
   "source": [
    "Q7.> How do tuples ensure data integrity in Python?\n",
    "\n",
    "    -> tuples are immutable means there can't be any accidental changes.\n",
    "\n",
    "    -> tuple is immutable means it is hashable so we can used it as key in dictionary.\n",
    "\n",
    "    -> tuple is immutable so it's behavior is predictable means it's integrity is maintined ."
   ]
  },
  {
   "cell_type": "markdown",
   "metadata": {},
   "source": [
    "Q8.> What is a hash table, and how does it relate to dictionaries in Python?\n",
    "\n",
    "    -> hash table : \n",
    "\n",
    "        is an data structure which used to store data of type having key and value pair.\n",
    "\n",
    "    -> relation of dictionary and hash table : \n",
    "        -> when we used hash function it created a hash table.\n",
    "\n",
    "        -> hash table has has slots.\n",
    "\n",
    "        -> every key in dictionary is unique means every key has some hash numbers. This has numbers decide on which slotwhich key value pair need to store.\n"
   ]
  },
  {
   "cell_type": "markdown",
   "metadata": {},
   "source": [
    "Q9.> Can lists contain different data types in Python?\n",
    "\n",
    "    -> yes list is heterogenous means it can store different data types items together like .\n",
    "\n",
    "    example :\n",
    "\n",
    "        list_1 =[1,2.2,'a',\"ajay\",True,False]\n",
    "        here list has all int, float, char, string, boolean data types"
   ]
  },
  {
   "cell_type": "markdown",
   "metadata": {},
   "source": [
    "Q10.> Explain why strings are immutable in Python?\n",
    "\n",
    "    -> strings are immutable because once it created it can't be add, removed, modified.\n",
    "    -> if we do some changes into string then it will became different strings means both the string will\n",
    "        point towards different memory location.\n"
   ]
  },
  {
   "cell_type": "markdown",
   "metadata": {},
   "source": [
    "Q11.> What advantages do dictionaries offer over lists for certain tasks?\n",
    "\n",
    "    -> as we know dictionaries are stored in key : value pair means if we want to access any value we will simply use key not like lists where we need to iterate over indexes to find the value.\n",
    "\n",
    "    -> due to key:value pair the representation of data become easy .\n",
    "\n",
    "    -> the key's in dictionaries are unique so we can use it if we want to check one key only one time."
   ]
  },
  {
   "cell_type": "markdown",
   "metadata": {},
   "source": [
    "Q12.> Describe a scenario where using a tuple would be preferable over a list ?\n",
    "\n",
    "    -> suppose we want to store the marks of 10th boards marks and we know as the board marks are once declared they can't be  change. So in this case storing bord marks of 10th in tuple is best choice because tuple is immutable once made can't be  changed. "
   ]
  },
  {
   "cell_type": "markdown",
   "metadata": {},
   "source": [
    "Q13.> How do sets handle duplicate values in Python?\n",
    "\n",
    "    -> in Python set's don't allow duplicate values . If there are duplicate values then it will only show one of them in output because set only store unique value means one value only one time. \n",
    "\n",
    "    example = set_one = {1,1,2,2,3,3,4,4,5,5}\n",
    "              OUTPUT = {1,2,3,4,5}"
   ]
  },
  {
   "cell_type": "markdown",
   "metadata": {},
   "source": [
    "Q14.> How does the “in” keyword work differently for lists and dictionaries?\n",
    "\n",
    "    -> \"in\" is an membership operator it checked whether given value exists in data structure or not.\n",
    "\n",
    "    list -> in list we passed \"in\" to check to check whether given value exists or not . If exists then it will give True if not then it will give False\n",
    "\n",
    "        example of list - > \n",
    "                            list_one = [1,2,3,4,5,6]\n",
    "\n",
    "                            print( 4 in list_one) # ouput ->  True\n",
    "\n",
    "    \n",
    "    dictionary -> in dictionary we used \"in\" to check whether given key exists or not. If exists then it will give us True if \n",
    "    not then it will give False. In this we can only check \"keys\" not \"values\".\n",
    "\n",
    "        example of dictionary - > \n",
    "\n",
    "                            dict_one = {\"name\":\"Abhay\",\n",
    "                                        \"age\":28,\n",
    "                                        \"gender\":\"male\",\n",
    "                                        \"bool\":True}\n",
    "\n",
    "                            print(\"name\" in dict_one) # output -> True\n",
    "                            print(\"Abhay\" in dict_one) # output -> False\n",
    "                            print(\"age\" in dict_one) # output -> True\n",
    "                            print(\"male\" in dict_one) # output -> False"
   ]
  },
  {
   "cell_type": "markdown",
   "metadata": {},
   "source": [
    "Q15.> Can you modify the elements of a tuple? Explain why or why not?\n",
    "\n",
    "    -> no we can't modify the elements of a tuple because tuple is immutable means once the tuple created in it we can't \n",
    "    add, remove, insert, append or we can say once the tuple created then doing any modification in it is not accepted.\n",
    "\n",
    "        example -> \n",
    "                tup_one = (1,2,3,4)\n",
    "                print(type(tup_one)) # output -> tuple\n",
    "\n",
    "                tup_one[1] = 11\n",
    "                print(tup_one) # output - > error because tuple is immutable it doesn't support item assignment"
   ]
  },
  {
   "cell_type": "markdown",
   "metadata": {},
   "source": [
    "Q16.> What is a nested dictionary, and give an example of its use case?\n",
    "\n",
    "    -> nested dictionary means inside dictionary there is another dictionary .\n",
    "\n",
    "        family_dict  = {\"cousin\":{\"paternal_cousin\":\"Anshu\",\n",
    "                                \"maternal_cousin\":\"Surya\"},\n",
    "                \n",
    "                        \"uncle\":{\"paternal_uncle\":\"Bihari chache\",\n",
    "                                \"maternal_uncle\":\"Ajay\"},\n",
    "\n",
    "                        \"grand_father\":{\"maternal_grand_father\":\"Ram ji\",\n",
    "                                     \"paternal_grand_father\":\"Ram\"},\n",
    "                                     \n",
    "                        \"grand_mother\":{\"maternal_grand_mother\":\"Lilawit\",\n",
    "                                        \"patrernal_grand_mother\":\"Shankutla\"}}\n",
    "\n",
    "                output - > \n",
    "\n",
    "                        {'cousin': {'paternal_cousin': 'Anshu', 'maternal_cousin': 'Surya'},\n",
    "                        'uncle': {'paternal_uncle': 'Bihari chache', 'maternal_uncle': 'Ajay'},\n",
    "                        'grand_father': {'maternal_grand_father': 'Ram ji',\n",
    "                        'paternal_grand_father': 'Ram'},\n",
    "                        'grand_mother': {'maternal_grand_mother': 'Lilawit',\n",
    "                        'patrernal_grand_mother': 'Shankutla'}}"
   ]
  },
  {
   "cell_type": "markdown",
   "metadata": {},
   "source": [
    "Q17.>  Describe the time complexity of accessing elements in a dictionary?\n",
    "\n",
    "    -> the normal time complexity of accessing elements in dictionary is O(1) constant time because no matter how\n",
    "    long dictionary is accessing every key:value pair takes equal times . This happend because of hashing.\n",
    "\n",
    "    but if there are many hashing collisions then it can take time like O(n)."
   ]
  },
  {
   "cell_type": "markdown",
   "metadata": {},
   "source": [
    "Q18.> In what situations are lists preferred over dictionaries ?\n",
    "\n",
    "    -> Sequential searching : when we need to do searching on based on indexes.\n",
    "    -> Similar data : when we have data's which are similar to each other . So we use list to store all data at one variable.\n",
    "    -> large data : in list we can store very large amount of data easily."
   ]
  },
  {
   "cell_type": "markdown",
   "metadata": {},
   "source": [
    "Q19.> Why are dictionaries considered unordered, and how does that affect data retrieval?\n",
    "\n",
    "    -> dictionaries are considered unordered because they are stored in the form of key:value pair.They have no any indexes\n",
    "    that's why dictionaries are considered as unordered.\n",
    "\n",
    "    -> effects of data retrieval :\n",
    "    1.> dictinoary uses hash table to store key:value pair because of which insertion, deletion and updating take \n",
    "    constant time complexity that is O(1).\n",
    "    2.> we access dictionary with keys and keys are always considered unique."
   ]
  },
  {
   "cell_type": "markdown",
   "metadata": {},
   "source": [
    "Q20.> Explain the difference between a list and a dictionary in terms of data retrieval.\n",
    "    \n",
    "    -> position of elements :\n",
    "        list -> in this the element which is input first comes at first position and the element which is input second comes at second positon and this continues. Means lists are ordered.\n",
    "\n",
    "        dictionaries ->  it doesn't have positions means dictionaries doesn't support indexing.\n",
    "\n",
    "    -> data retrieval :\n",
    "        list -> we used indexed to retrieve data's.\n",
    "        \n",
    "        dictionaries -> we used key to retrieves data's.\n",
    "\n",
    "    -> performance :\n",
    "        list -> if we used index to retrive data's then it takes time complexity of O(1) that is constant time. But if we \n",
    "        are going to sort lists then it will take time complexity of O(n).\n",
    "\n",
    "        dictionaries -> it uses hash table to retrieve data so it's time complexity is always O(1). But if we have hash collisions then it will take time complexity of O(n)."
   ]
  },
  {
   "cell_type": "markdown",
   "metadata": {},
   "source": [
    "##### PRACTICAL QUESTIONS"
   ]
  },
  {
   "cell_type": "markdown",
   "metadata": {},
   "source": [
    "Q1.> Write a code to create a string with your name and print it ?"
   ]
  },
  {
   "cell_type": "code",
   "execution_count": 3,
   "metadata": {},
   "outputs": [
    {
     "name": "stdout",
     "output_type": "stream",
     "text": [
      "ANSWER 1 : \n",
      "Abhay kumar yadav\n"
     ]
    }
   ],
   "source": [
    "print(\"ANSWER 1 : \")\n",
    "my_name = \"Abhay kumar yadav\"\n",
    "print(my_name)"
   ]
  },
  {
   "cell_type": "markdown",
   "metadata": {},
   "source": [
    "Q2.>  Write a code to find the length of the string \"Hello World\"?\n"
   ]
  },
  {
   "cell_type": "code",
   "execution_count": 5,
   "metadata": {},
   "outputs": [
    {
     "name": "stdout",
     "output_type": "stream",
     "text": [
      "ANSWER 2 :\n",
      "length of str_name is :  11\n"
     ]
    }
   ],
   "source": [
    "print(\"ANSWER 2 :\")\n",
    "str_name = \"Hello World\"\n",
    "print(\"length of str_name is : \", len(str_name))"
   ]
  },
  {
   "cell_type": "markdown",
   "metadata": {},
   "source": [
    "Q3.> Write a code to slice the first 3 characters from the string \"Python Programming\"?"
   ]
  },
  {
   "cell_type": "code",
   "execution_count": 6,
   "metadata": {},
   "outputs": [
    {
     "name": "stdout",
     "output_type": "stream",
     "text": [
      "ANSWER 3 : \n",
      "The first 3 characters of str_str is :  Pyt\n"
     ]
    }
   ],
   "source": [
    "print(\"ANSWER 3 : \")\n",
    "str_str = \"Python Programming\"\n",
    "slice_str = str_str[:3]\n",
    "print(\"The first 3 characters of str_str is : \",  slice_str)"
   ]
  },
  {
   "cell_type": "markdown",
   "metadata": {},
   "source": [
    "Q4.> Write a code to convert the string \"hello\" to uppercase?"
   ]
  },
  {
   "cell_type": "code",
   "execution_count": 19,
   "metadata": {},
   "outputs": [
    {
     "name": "stdout",
     "output_type": "stream",
     "text": [
      "ANSWER 4 : \n",
      "This is our original str_str :  hello\n",
      "The uppercase of str_str is this :  HELLO\n"
     ]
    }
   ],
   "source": [
    "print(\"ANSWER 4 : \")\n",
    "str_str = \"hello\"\n",
    "print(\"This is our original str_str : \", str_str)\n",
    "str_str_upper = str_str.upper()\n",
    "print(\"The uppercase of str_str is this : \",str_str_upper)"
   ]
  },
  {
   "cell_type": "markdown",
   "metadata": {},
   "source": [
    "Q5.> Write a code to replace the word \"apple\" with \"orange\" in the string \"I like apple\"?"
   ]
  },
  {
   "cell_type": "code",
   "execution_count": 20,
   "metadata": {},
   "outputs": [
    {
     "name": "stdout",
     "output_type": "stream",
     "text": [
      "ANSWER 5 : \n",
      "This is our original str_str :  I like apple\n",
      "After replaceing apple with orange our str_str look somtthing like this :  I like ornage\n"
     ]
    }
   ],
   "source": [
    "print(\"ANSWER 5 : \")\n",
    "\n",
    "str_str = \"I like apple\"\n",
    "print(\"This is our original str_str : \", str_str)\n",
    "str_str = str_str.replace(\"apple\",\"ornage\")\n",
    "print(\"After replaceing apple with orange our str_str look somtthing like this : \",str_str)"
   ]
  },
  {
   "cell_type": "markdown",
   "metadata": {},
   "source": [
    "Q6.> Write a code to create a list with numbers 1 to 5 and print it?"
   ]
  },
  {
   "cell_type": "code",
   "execution_count": 13,
   "metadata": {},
   "outputs": [
    {
     "name": "stdout",
     "output_type": "stream",
     "text": [
      "ANSWER 6 : \n",
      "this is our created list having numbers from 1 to 5 :  [1, 2, 3, 4, 5]\n"
     ]
    }
   ],
   "source": [
    "print(\"ANSWER 6 : \")\n",
    "list_num = [1,2,3,4,5]\n",
    "print(\"this is our created list having numbers from 1 to 5 : \",list_num)"
   ]
  },
  {
   "cell_type": "markdown",
   "metadata": {},
   "source": [
    "Q7.> Write a code to append the number 10 to the list [1, 2, 3, 4]?"
   ]
  },
  {
   "cell_type": "code",
   "execution_count": 21,
   "metadata": {},
   "outputs": [
    {
     "name": "stdout",
     "output_type": "stream",
     "text": [
      "ANSWER 7 : \n",
      "This is our original list_num :  [1, 2, 3, 4]\n",
      "This is how our list_num looks after appending 10 to it :  [1, 2, 3, 4, 10]\n"
     ]
    }
   ],
   "source": [
    "print(\"ANSWER 7 : \")\n",
    "\n",
    "list_num = [1,2,3,4]\n",
    "print(\"This is our original list_num : \", list_num)\n",
    "list_num.append(10)\n",
    "print(\"This is how our list_num looks after appending 10 to it : \",list_num)"
   ]
  },
  {
   "cell_type": "markdown",
   "metadata": {},
   "source": [
    "Q8.> Write a code to remove the number 3 from the list [1, 2, 3, 4, 5]?"
   ]
  },
  {
   "cell_type": "code",
   "execution_count": 22,
   "metadata": {},
   "outputs": [
    {
     "name": "stdout",
     "output_type": "stream",
     "text": [
      "ANSWER 8 : \n",
      "This is our original list :  [1, 2, 3, 4, 5]\n",
      "This is the list_num after removing 3 from it :  [1, 2, 4, 5]\n"
     ]
    }
   ],
   "source": [
    "print(\"ANSWER 8 : \")\n",
    "list_num = [1,2,3,4,5]\n",
    "print(\"This is our original list : \", list_num)\n",
    "\n",
    "list_num.remove(3)\n",
    "print(\"This is the list_num after removing 3 from it : \",list_num)"
   ]
  },
  {
   "cell_type": "markdown",
   "metadata": {},
   "source": [
    "Q9.> Write a code to access the second element in the list ['a', 'b', 'c', 'd']?"
   ]
  },
  {
   "cell_type": "code",
   "execution_count": 25,
   "metadata": {},
   "outputs": [
    {
     "name": "stdout",
     "output_type": "stream",
     "text": [
      "ANSWER 9 : \n",
      "This is our original list_char :  ['a', 'b', 'c', 'd']\n",
      "This is the second element from the given list :  b\n"
     ]
    }
   ],
   "source": [
    "print(\"ANSWER 9 : \")\n",
    "list_char = ['a','b','c','d']\n",
    "print(\"This is our original list_char : \", list_char)\n",
    "\n",
    "element_2 = list_char[1]\n",
    "print(\"This is the second element from the given list : \",element_2)"
   ]
  },
  {
   "cell_type": "markdown",
   "metadata": {},
   "source": [
    "Q10.> Write a code to reverse the list [10, 20, 30, 40, 50]"
   ]
  },
  {
   "cell_type": "code",
   "execution_count": 27,
   "metadata": {},
   "outputs": [
    {
     "name": "stdout",
     "output_type": "stream",
     "text": [
      "ANSWER 10 : \n",
      "This is our originla list :  [10, 20, 30, 40, 50]\n",
      "This is the list after reversing it :  [50, 40, 30, 20, 10]\n"
     ]
    }
   ],
   "source": [
    "print(\"ANSWER 10 : \")\n",
    "list_num =[10,20,30,40,50]\n",
    "print(\"This is our originla list : \", list_num)\n",
    "\n",
    "list_num.reverse()\n",
    "print(\"This is the list after reversing it : \",list_num)"
   ]
  },
  {
   "cell_type": "markdown",
   "metadata": {},
   "source": [
    "Q11.>  Write a code to create a tuple with the elements 10, 20, 30 and print it."
   ]
  },
  {
   "cell_type": "code",
   "execution_count": 30,
   "metadata": {},
   "outputs": [
    {
     "name": "stdout",
     "output_type": "stream",
     "text": [
      "ANSWER 11 : \n",
      "This is our created tuple :  (10, 20, 30)\n"
     ]
    }
   ],
   "source": [
    "print(\"ANSWER 11 : \")\n",
    "\n",
    "tup_le = (10,20,30)\n",
    "print(\"This is our created tuple : \",tup_le)"
   ]
  },
  {
   "cell_type": "markdown",
   "metadata": {},
   "source": [
    "Q12.>  Write a code to access the first element of the tuple ('apple', 'banana', 'cherry')."
   ]
  },
  {
   "cell_type": "code",
   "execution_count": 32,
   "metadata": {},
   "outputs": [
    {
     "name": "stdout",
     "output_type": "stream",
     "text": [
      "ANSWER 12 : \n",
      "This is original tupple :  ('apple', 'banana', 'cherry')\n",
      "This is the first element of the given tup_list :  apple\n"
     ]
    }
   ],
   "source": [
    "print(\"ANSWER 12 : \")\n",
    "tup_list = ('apple',\"banana\",\"cherry\")\n",
    "print(\"This is original tupple : \", tup_list)\n",
    "first_element = tup_list[0]\n",
    "print(\"This is the first element of the given tup_list : \", first_element)\n"
   ]
  },
  {
   "cell_type": "markdown",
   "metadata": {},
   "source": [
    "Q13.>  Write a code to count how many times the number 2 appears in the tuple (1, 2, 3, 2, 4, 2)."
   ]
  },
  {
   "cell_type": "code",
   "execution_count": 38,
   "metadata": {},
   "outputs": [
    {
     "name": "stdout",
     "output_type": "stream",
     "text": [
      "ANSWER 13 : \n",
      "This is original tuple :  (1, 2, 3, 2, 4, 2)\n",
      "This is the number of times 2 comes in our given tuple :  3\n"
     ]
    }
   ],
   "source": [
    "print(\"ANSWER 13 : \")\n",
    "tup_tup = (1,2,3,2,4,2)\n",
    "print(\"This is original tuple : \", tup_tup)\n",
    "\n",
    "count_2 = tup_tup.count(2)\n",
    "print(\"This is the number of times 2 comes in our given tuple : \",count_2)"
   ]
  },
  {
   "cell_type": "markdown",
   "metadata": {},
   "source": [
    "Q14.>  Write a code to find the index of the element \"cat\" in the tuple ('dog', 'cat', 'rabbit')."
   ]
  },
  {
   "cell_type": "code",
   "execution_count": 41,
   "metadata": {},
   "outputs": [
    {
     "name": "stdout",
     "output_type": "stream",
     "text": [
      "ANSWER 14 : \n",
      "This is our original tuple :  ('dog', 'cat', 'rabbit')\n",
      "The index of cat in our original output is this :  1\n"
     ]
    }
   ],
   "source": [
    "print(\"ANSWER 14 : \")\n",
    "\n",
    "tup_tup = (\"dog\",\"cat\",\"rabbit\")\n",
    "print(\"This is our original tuple : \", tup_tup)\n",
    "\n",
    "index_cat = tup_tup.index(\"cat\")\n",
    "print(\"The index of cat in our original output is this : \",index_cat)"
   ]
  },
  {
   "cell_type": "markdown",
   "metadata": {},
   "source": [
    "Q15.> Write a code to check if the element \"banana\" is in the tuple ('apple', 'orange', 'banana')."
   ]
  },
  {
   "cell_type": "code",
   "execution_count": 44,
   "metadata": {},
   "outputs": [
    {
     "name": "stdout",
     "output_type": "stream",
     "text": [
      "ANSWER 15 : \n",
      "This is our original tuple :  ('apple', 'orange', 'banana')\n",
      "This output predict where banana is in tup_tup or not :  True\n"
     ]
    }
   ],
   "source": [
    "print(\"ANSWER 15 : \")\n",
    "tup_tup = (\"apple\",\"orange\",\"banana\")\n",
    "print(\"This is our original tuple : \", tup_tup)\n",
    "result = \"banana\" in tup_tup\n",
    "print(\"This output predict where banana is in tup_tup or not : \",result)"
   ]
  },
  {
   "cell_type": "markdown",
   "metadata": {},
   "source": [
    "Q16.> . Write a code to create a set with the elements 1, 2, 3, 4, 5 and print it."
   ]
  },
  {
   "cell_type": "code",
   "execution_count": 46,
   "metadata": {},
   "outputs": [
    {
     "name": "stdout",
     "output_type": "stream",
     "text": [
      "ANSWER 16 : \n",
      "This is our created set :  {1, 2, 3, 4, 5}\n"
     ]
    }
   ],
   "source": [
    "print(\"ANSWER 16 : \")\n",
    "\n",
    "set_set = {1,2,3,4,5}\n",
    "print(\"This is our created set : \",set_set)"
   ]
  },
  {
   "cell_type": "markdown",
   "metadata": {},
   "source": [
    "Q17.> . Write a code to add the element 6 to the set {1, 2, 3, 4}."
   ]
  },
  {
   "cell_type": "code",
   "execution_count": 48,
   "metadata": {},
   "outputs": [
    {
     "name": "stdout",
     "output_type": "stream",
     "text": [
      "ANSWER 17 : \n",
      "This is our original set :  {1, 2, 3, 4}\n",
      "This is our set after adding 6 to the set_set :  {1, 2, 3, 4, 6}\n"
     ]
    }
   ],
   "source": [
    "print(\"ANSWER 17 : \")\n",
    "set_set = {1,2,3,4}\n",
    "print(\"This is our original set : \", set_set)\n",
    "set_set.add(6)\n",
    "print(\"This is our set after adding 6 to the set_set : \",set_set)"
   ]
  }
 ],
 "metadata": {
  "kernelspec": {
   "display_name": "Python 3",
   "language": "python",
   "name": "python3"
  },
  "language_info": {
   "codemirror_mode": {
    "name": "ipython",
    "version": 3
   },
   "file_extension": ".py",
   "mimetype": "text/x-python",
   "name": "python",
   "nbconvert_exporter": "python",
   "pygments_lexer": "ipython3",
   "version": "3.12.4"
  }
 },
 "nbformat": 4,
 "nbformat_minor": 2
}
